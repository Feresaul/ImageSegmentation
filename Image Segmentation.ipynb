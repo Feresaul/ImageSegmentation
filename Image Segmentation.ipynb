{
 "cells": [
  {
   "cell_type": "code",
   "execution_count": 1,
   "metadata": {},
   "outputs": [],
   "source": [
    "import numpy as np\n",
    "import matplotlib.pyplot as plt\n",
    "import cv2"
   ]
  },
  {
   "cell_type": "code",
   "execution_count": 2,
   "metadata": {},
   "outputs": [
    {
     "data": {
      "text/plain": [
       "[[0, 255], [0, 255], [0, 255], [0, 255], [0, 255], [0, 255]]"
      ]
     },
     "execution_count": 2,
     "metadata": {},
     "output_type": "execute_result"
    }
   ],
   "source": [
    "img = cv2.imread('aguacate.png')\n",
    "cv2.cvtColor(img, cv2.COLOR_BGR2RGB)\n",
    "variables = 6\n",
    "bounds = []\n",
    "for i in range(variables):\n",
    "    bounds.append([0,255])\n",
    "bounds"
   ]
  },
  {
   "cell_type": "markdown",
   "metadata": {},
   "source": [
    "## Individual\n"
   ]
  },
  {
   "cell_type": "code",
   "execution_count": 3,
   "metadata": {},
   "outputs": [
    {
     "data": {
      "text/plain": [
       "[249, 142, 254, 195, 115, 40]"
      ]
     },
     "execution_count": 3,
     "metadata": {},
     "output_type": "execute_result"
    }
   ],
   "source": [
    "# <r1,g1,b1,r2,g2,b2>\n",
    "def Individual(bounds):\n",
    "    ind = []\n",
    "    for i in range(len(bounds)):\n",
    "        ind.append(np.random.randint(bounds[i][0], bounds[i][1]))\n",
    "    return ind\n",
    "\n",
    "ind = Individual(bounds)\n",
    "ind"
   ]
  },
  {
   "cell_type": "code",
   "execution_count": 4,
   "metadata": {},
   "outputs": [],
   "source": [
    "# Distancia entre puntos pixel vs centroide #color\n",
    "def f(pixel, ind):\n",
    "    Dif = 0\n",
    "    minimum = None\n",
    "    for i in range(int(len(ind)/3)):\n",
    "        newPixel = ind[3*i:3*i+3]\n",
    "        Dif = np.linalg.norm(newPixel-pixel)\n",
    "        if minimum is None or Dif < minimum:\n",
    "            minimum = Dif\n",
    "    Dif = minimum\n",
    "    return Dif"
   ]
  },
  {
   "cell_type": "code",
   "execution_count": 5,
   "metadata": {},
   "outputs": [
    {
     "data": {
      "text/plain": [
       "4250388.494265703"
      ]
     },
     "execution_count": 5,
     "metadata": {},
     "output_type": "execute_result"
    }
   ],
   "source": [
    "def FitIndividual(ind, img):\n",
    "    sumDif = 0\n",
    "    for i in range(len(img)):\n",
    "        for j in range(len(img[i])):\n",
    "            point = img[i][j]\n",
    "            sumDif += f(point, ind)\n",
    "    return sumDif\n",
    "fit = FitIndividual(ind, img)\n",
    "fit"
   ]
  },
  {
   "cell_type": "code",
   "execution_count": 6,
   "metadata": {},
   "outputs": [
    {
     "data": {
      "text/plain": [
       "[[56, 114, 110, 194, 74, 19],\n",
       " [220, 32, 170, 199, 23, 115],\n",
       " [57, 66, 96, 184, 197, 203],\n",
       " [161, 168, 3, 121, 136, 250],\n",
       " [151, 162, 61, 94, 124, 121],\n",
       " [235, 59, 48, 74, 201, 100],\n",
       " [7, 238, 113, 94, 222, 228],\n",
       " [217, 146, 34, 5, 78, 38],\n",
       " [140, 236, 66, 135, 21, 137],\n",
       " [179, 26, 206, 134, 211, 165]]"
      ]
     },
     "execution_count": 6,
     "metadata": {},
     "output_type": "execute_result"
    }
   ],
   "source": [
    "def NewPopulation(size, bounds):\n",
    "    population = []\n",
    "    for i in range(size):\n",
    "        population.append(Individual(bounds))\n",
    "    return population\n",
    "\n",
    "popu = NewPopulation(10, bounds)\n",
    "popu"
   ]
  },
  {
   "cell_type": "code",
   "execution_count": 7,
   "metadata": {},
   "outputs": [
    {
     "data": {
      "text/plain": [
       "[5859785.165305396,\n",
       " 6467640.279522046,\n",
       " 2994480.985390301,\n",
       " 4524788.950213716,\n",
       " 3637744.869481246,\n",
       " 4673141.912927878,\n",
       " 4992703.513389985,\n",
       " 4184555.324620885,\n",
       " 3485236.443737239,\n",
       " 3227198.9746195544]"
      ]
     },
     "execution_count": 7,
     "metadata": {},
     "output_type": "execute_result"
    }
   ],
   "source": [
    "def FitPopulation(population, img):\n",
    "    fit = []\n",
    "    for i in range (len(population)):\n",
    "        fit.append(FitIndividual(population[i],img))\n",
    "    return fit\n",
    "\n",
    "fit = FitPopulation(popu, img)\n",
    "fit"
   ]
  },
  {
   "cell_type": "code",
   "execution_count": 8,
   "metadata": {},
   "outputs": [
    {
     "data": {
      "text/plain": [
       "[array([  0, 199, 204, 255, 217, 205]),\n",
       " array([  0, 255,   0,  84, 221,   0]),\n",
       " array([  0, 220,   0, 186, 117, 255]),\n",
       " array([211,  44, 165, 204,  15, 131]),\n",
       " array([233, 102, 125,  53, 216, 219]),\n",
       " array([  0, 255, 121,  96, 224, 243]),\n",
       " array([224, 144,  30,   0,  72,  28]),\n",
       " array([  0,  55, 156,  75, 255, 255]),\n",
       " array([140, 195,  54, 126, 123, 255]),\n",
       " array([255,  95,   0,  24, 243, 255])]"
      ]
     },
     "execution_count": 8,
     "metadata": {},
     "output_type": "execute_result"
    }
   ],
   "source": [
    "def Mutate(population, bounds):\n",
    "    V = []\n",
    "    for i in range(len(population)):\n",
    "        n = len(population)\n",
    "        F = np.random.uniform(0.1, 2)\n",
    "        random = np.random.randint(n)\n",
    "        random2 = np.random.randint(n)\n",
    "        while random2 == random:\n",
    "            random2 = np.random.randint(n)\n",
    "        random3= np.random.randint(n)\n",
    "        while random3 == random | random3 == random2:\n",
    "            random2 = np.random.randint(n)\n",
    "        v = population[random]+F*np.subtract(population[random2],population[random3])\n",
    "        V.append(v.astype(int))\n",
    "        for j in range (len(bounds)):\n",
    "            if V[i][j] <  bounds[j][0]: V[i][j] = bounds[j][0]\n",
    "            elif V[i][j] >  bounds[j][1]: V[i][j] = bounds[j][1]\n",
    "    return V\n",
    "\n",
    "mutas = Mutate(popu, bounds)\n",
    "mutas"
   ]
  },
  {
   "cell_type": "code",
   "execution_count": 9,
   "metadata": {},
   "outputs": [
    {
     "data": {
      "text/plain": [
       "[array([  0, 199, 204, 255, 217, 205]),\n",
       " array([  0, 255,   0,  84, 221,   0]),\n",
       " array([  0, 220,   0, 186, 197, 255]),\n",
       " array([211,  44, 165, 204, 136, 250]),\n",
       " array([233, 102, 125,  53, 216, 219]),\n",
       " array([  0, 255, 121,  96, 224, 243]),\n",
       " array([224, 144,  30,   0,  72,  28]),\n",
       " array([  0,  55,  34,   5, 255, 255]),\n",
       " array([140, 195,  54, 126, 123, 255]),\n",
       " array([179,  95,   0,  24, 211, 255])]"
      ]
     },
     "execution_count": 9,
     "metadata": {},
     "output_type": "execute_result"
    }
   ],
   "source": [
    "def Reproduction(population, mutes, CR):\n",
    "    U = []\n",
    "    for i in range(len(population)):\n",
    "        Uj = []\n",
    "        for j in range(len(population[i])):\n",
    "            r = np.random.uniform(0, 1)\n",
    "            if r < CR:\n",
    "                Uj.append(mutes[i][j])\n",
    "            else:\n",
    "                Uj.append(population[i][j])\n",
    "        l = np.random.randint(len(population[i]))\n",
    "        Uj[l] = mutes[i][l]\n",
    "        U.append(np.array(Uj))\n",
    "    return U\n",
    "                       \n",
    "cruzas = Reproduction(popu, mutas, 0.8)\n",
    "cruzas"
   ]
  },
  {
   "cell_type": "code",
   "execution_count": 10,
   "metadata": {},
   "outputs": [
    {
     "name": "stdout",
     "output_type": "stream",
     "text": [
      "[array([  0, 199, 204, 255, 217, 205]), array([  0, 255,   0,  84, 221,   0]), array([ 57,  66,  96, 184, 197, 203]), array([161, 168,   3, 121, 136, 250]), array([151, 162,  61,  94, 124, 121]), array([235,  59,  48,  74, 201, 100]), array([224, 144,  30,   0,  72,  28]), array([217, 146,  34,   5,  78,  38]), array([140, 236,  66, 135,  21, 137]), array([179,  26, 206, 134, 211, 165])] [array(3089007.14937914), array(5942302.42143325), array(2994480.9853903), array(4524788.95021372), array(3637744.86948125), array(4673141.91292788), array(4357895.12487267), array(4184555.32462088), array(3485236.44373724), array(3227198.97461955)]\n"
     ]
    }
   ],
   "source": [
    "def Selection(population, breeds, img):\n",
    "    fitPopulation = FitPopulation(np.array(population), img)\n",
    "    fitBreeds = FitPopulation(np.array(breeds), img)\n",
    "    individuals = []\n",
    "    fit_ind = []\n",
    "    for i in range(len(population)):\n",
    "        if fitPopulation[i] <= fitBreeds[i]:\n",
    "            individuals.append(np.array(population[i]))\n",
    "            fit_ind.append(np.array(fitPopulation[i]))\n",
    "        else:\n",
    "            individuals.append(breeds[i])\n",
    "            fit_ind.append(np.array(fitBreeds[i]))\n",
    "    return individuals, fit_ind\n",
    "\n",
    "seleccion, fitSeleccion = Selection(popu, cruzas, img)\n",
    "print(seleccion, fitSeleccion)"
   ]
  },
  {
   "cell_type": "code",
   "execution_count": 11,
   "metadata": {},
   "outputs": [
    {
     "name": "stdout",
     "output_type": "stream",
     "text": [
      "[57, 66, 96, 184, 197, 203] 2994480.985390301\n"
     ]
    }
   ],
   "source": [
    "def Elite(population, fitness):\n",
    "    individuals = population.copy()\n",
    "    idx = np.argsort(fitness)\n",
    "    return individuals[idx[0]], fitness[idx[0]]\n",
    "\n",
    "elite, aptElite = Elite(popu, fit)\n",
    "print(elite, aptElite)"
   ]
  },
  {
   "cell_type": "code",
   "execution_count": 12,
   "metadata": {},
   "outputs": [
    {
     "name": "stdout",
     "output_type": "stream",
     "text": [
      "elite: [99, 114, 1, 208, 220, 88] fitness: 1958539.2552100709\n",
      "elite: [255 255 198 188 233 130] fitness: 1789537.8795078394\n",
      "elite: [ 95 140   0 209 235 157] fitness: 1614060.3845489065\n",
      "elite: [ 95 140   0 209 235 157] fitness: 1614060.3845489065\n",
      "elite: [ 95 140   0 209 235 157] fitness: 1614060.3845489065\n",
      "elite: [ 95 140   0 209 235 157] fitness: 1614060.3845489065\n",
      "elite: [ 95 140   0 209 235 157] fitness: 1614060.3845489065\n",
      "elite: [ 26  50   8 217 226 127] fitness: 1515973.3028255464\n",
      "elite: [ 26  50   8 217 226 127] fitness: 1515973.3028255464\n",
      "elite: [ 26  50   8 217 226 127] fitness: 1515973.3028255464\n",
      "elite: [176 216  96 234 247 136] fitness: 1402957.7688061513\n",
      "elite: [176 216  96 234 247 136] fitness: 1402957.7688061513\n",
      "elite: [176 216  96 234 247 136] fitness: 1402957.7688061513\n",
      "elite: [176 216  96 234 247 136] fitness: 1402957.7688061513\n",
      "elite: [176 216  96 234 247 136] fitness: 1402957.7688061513\n",
      "elite: [176 216  96 234 247 136] fitness: 1402957.7688061513\n",
      "elite: [176 216  96 234 247 136] fitness: 1402957.7688061513\n",
      "elite: [176 216  96 234 247 136] fitness: 1402957.7688061513\n",
      "elite: [176 216  96 234 247 136] fitness: 1402957.7688061513\n",
      "elite: [176 216  96 234 247 136] fitness: 1402957.7688061513\n",
      "elite: [176 216  96 234 247 136] fitness: 1402957.7688061513\n",
      "elite: [176 216  96 234 247 136] fitness: 1402957.7688061513\n",
      "elite: [176 216  96 234 247 136] fitness: 1402957.7688061513\n",
      "elite: [176 216  96 234 247 136] fitness: 1402957.7688061513\n",
      "elite: [176 216  96 234 247 136] fitness: 1402957.7688061513\n",
      "elite: [176 216  96 234 247 136] fitness: 1402957.7688061513\n",
      "elite: [176 216  96 234 247 136] fitness: 1402957.7688061513\n",
      "elite: [176 216  96 234 247 136] fitness: 1402957.7688061513\n",
      "elite: [176 216  96 234 247 136] fitness: 1402957.7688061513\n",
      "elite: [176 216  96 234 247 136] fitness: 1402957.7688061513\n",
      "elite: [203 206 117 209 217 154] fitness: 1362491.189596135\n",
      "elite: [203 206 117 209 217 154] fitness: 1362491.189596135\n",
      "elite: [193 207 117 220 219 137] fitness: 1316063.9680605028\n",
      "elite: [193 207 117 220 219 137] fitness: 1316063.9680605028\n",
      "elite: [193 207 117 220 219 137] fitness: 1316063.9680605028\n",
      "elite: [193 207 117 220 219 137] fitness: 1316063.9680605028\n",
      "elite: [193 207 117 220 219 137] fitness: 1316063.9680605028\n",
      "elite: [193 207 117 220 219 137] fitness: 1316063.9680605028\n",
      "elite: [193 207 117 220 219 137] fitness: 1316063.9680605028\n",
      "elite: [193 207 117 220 219 137] fitness: 1316063.9680605028\n",
      "elite: [193 207 117 220 219 137] fitness: 1316063.9680605028\n",
      "elite: [193 207 117 220 219 137] fitness: 1316063.9680605028\n",
      "elite: [198 211  96 218 226 137] fitness: 1213036.5997235249\n",
      "elite: [198 211  96 218 226 137] fitness: 1213036.5997235249\n",
      "elite: [198 211  96 218 226 137] fitness: 1213036.5997235249\n",
      "elite: [198 211  96 218 226 137] fitness: 1213036.5997235249\n",
      "elite: [198 211  96 218 226 137] fitness: 1213036.5997235249\n",
      "elite: [198 211  96 218 226 137] fitness: 1213036.5997235249\n",
      "elite: [198 211  96 218 226 137] fitness: 1213036.5997235249\n",
      "elite: [198 211  96 218 226 137] fitness: 1213036.5997235249\n",
      "elite: [189 205 112 217 231 138] fitness: 1207792.6732398116\n",
      "elite: [189 205 112 217 231 138] fitness: 1207792.6732398116\n",
      "elite: [189 205 112 217 231 138] fitness: 1207792.6732398116\n",
      "elite: [189 205 112 217 231 138] fitness: 1207792.6732398116\n",
      "elite: [189 205 112 217 231 138] fitness: 1207792.6732398116\n",
      "elite: [189 205 112 217 231 138] fitness: 1207792.6732398116\n",
      "elite: [189 205 112 217 231 138] fitness: 1207792.6732398116\n",
      "elite: [194 213 100 218 227 137] fitness: 1196814.0974244275\n",
      "elite: [194 213 100 218 227 137] fitness: 1196814.0974244275\n",
      "elite: [194 213 100 218 227 137] fitness: 1196814.0974244275\n",
      "elite: [202 205 102 219 226 140] fitness: 1190740.2060277844\n",
      "elite: [202 207 108 216 227 144] fitness: 1185347.2420615936\n",
      "elite: [202 207 108 216 227 144] fitness: 1185347.2420615936\n",
      "elite: [202 207 108 216 227 144] fitness: 1185347.2420615936\n",
      "elite: [202 207 108 216 227 144] fitness: 1185347.2420615936\n",
      "elite: [194 201 102 219 227 138] fitness: 1165886.477963548\n",
      "elite: [193 207 117 225 229 157] fitness: 1142439.2732760087\n",
      "elite: [193 207 117 225 229 157] fitness: 1142439.2732760087\n",
      "elite: [193 207 117 225 229 157] fitness: 1142439.2732760087\n",
      "elite: [193 207 117 225 229 157] fitness: 1142439.2732760087\n",
      "elite: [193 207 117 225 229 157] fitness: 1142439.2732760087\n",
      "elite: [193 207 117 225 229 157] fitness: 1142439.2732760087\n",
      "elite: [193 207 117 225 229 157] fitness: 1142439.2732760087\n",
      "elite: [193 207 117 225 229 157] fitness: 1142439.2732760087\n",
      "elite: [191 207 103 219 232 149] fitness: 1081405.4924375035\n",
      "elite: [191 207 103 219 232 149] fitness: 1081405.4924375035\n",
      "elite: [191 207 103 219 232 149] fitness: 1081405.4924375035\n",
      "elite: [193 204  97 223 233 146] fitness: 1075616.1063125837\n",
      "elite: [193 204  97 223 233 146] fitness: 1075616.1063125837\n",
      "elite: [193 204  97 223 233 146] fitness: 1075616.1063125837\n",
      "elite: [193 204  97 223 233 146] fitness: 1075616.1063125837\n",
      "elite: [193 204  97 223 233 146] fitness: 1075616.1063125837\n",
      "elite: [193 204  97 223 233 146] fitness: 1075616.1063125837\n",
      "elite: [193 204  97 223 233 146] fitness: 1075616.1063125837\n",
      "elite: [199 207 102 225 229 157] fitness: 1075042.0826829968\n",
      "elite: [199 207 102 225 229 157] fitness: 1075042.0826829968\n",
      "elite: [192 204 106 223 235 150] fitness: 1065363.0449280185\n",
      "elite: [192 207 106 227 236 163] fitness: 1049324.4150816724\n",
      "elite: [192 207 106 227 236 163] fitness: 1049324.4150816724\n",
      "elite: [192 207 106 227 236 163] fitness: 1049324.4150816724\n",
      "elite: [192 207 106 227 236 163] fitness: 1049324.4150816724\n",
      "elite: [195 206  97 227 234 159] fitness: 1041893.0237501162\n",
      "elite: [195 206  97 227 234 159] fitness: 1041893.0237501162\n",
      "elite: [195 206  97 227 234 159] fitness: 1041893.0237501162\n",
      "elite: [195 206  97 227 234 159] fitness: 1041893.0237501162\n",
      "elite: [195 206 103 226 238 157] fitness: 1038675.5139732297\n",
      "elite: [195 206 103 226 238 157] fitness: 1038675.5139732297\n",
      "elite: [195 206 103 226 238 157] fitness: 1038675.5139732297\n",
      "elite: [195 208 103 229 234 158] fitness: 1035455.082035048\n",
      "elite: [195 208 103 229 234 158] fitness: 1035455.082035048\n",
      "elite: [194 205 103 228 236 162] fitness: 1034982.0528113454\n",
      "Solucion: [194 205 103 228 236 162]\n"
     ]
    }
   ],
   "source": [
    "def EvolucionDiferencial(bounds, img):\n",
    "    g = 0\n",
    "    G = 100\n",
    "    p = 100\n",
    "    CR = 0.8\n",
    "    poblacion = NewPopulation(p, bounds)\n",
    "    fitness = FitPopulation(poblacion, img)\n",
    "    elite, aptElite = Elite(poblacion, fitness)\n",
    "    print(\"elite:\",elite,\"fitness:\",aptElite)\n",
    "    \n",
    "    while g < G:\n",
    "        mutas = Mutate(poblacion, bounds)\n",
    "        cruzas = Reproduction(poblacion, mutas, CR)\n",
    "        poblacion, fitPoblacion = Selection(poblacion, cruzas, img)\n",
    "        elite, aptElite = Elite(poblacion, fitPoblacion)\n",
    "        print(\"elite:\",elite,\"fitness:\",aptElite)\n",
    "        g+=1\n",
    "    return elite\n",
    "\n",
    "sol = EvolucionDiferencial(bounds, img)\n",
    "print(\"Solucion:\", sol)"
   ]
  },
  {
   "cell_type": "code",
   "execution_count": 13,
   "metadata": {},
   "outputs": [
    {
     "name": "stdout",
     "output_type": "stream",
     "text": [
      "[194 205 103] [228 236 162]\n"
     ]
    }
   ],
   "source": [
    "Centroide1 = sol[:3]\n",
    "Centroide2 = sol[3:]\n",
    "print(Centroide1, Centroide2)"
   ]
  },
  {
   "cell_type": "code",
   "execution_count": 14,
   "metadata": {},
   "outputs": [
    {
     "data": {
      "text/plain": [
       "True"
      ]
     },
     "execution_count": 14,
     "metadata": {},
     "output_type": "execute_result"
    }
   ],
   "source": [
    "newImg = img.copy();\n",
    "for i in range(len(newImg)):\n",
    "    for j in range(len(newImg[i])):\n",
    "        if np.linalg.norm(Centroide1-newImg[i][j]) <  np.linalg.norm(Centroide2-newImg[i][j]): \n",
    "            for x in range(len(newImg[i][j])):\n",
    "                newImg[i][j][x] = 0\n",
    "        else:\n",
    "            for x in range(len(newImg[i][j])):\n",
    "                newImg[i][j][x] = 255\n",
    "cv2.imwrite(\"Siloute.png\", newImg)"
   ]
  },
  {
   "cell_type": "code",
   "execution_count": 15,
   "metadata": {},
   "outputs": [
    {
     "data": {
      "text/plain": [
       "True"
      ]
     },
     "execution_count": 15,
     "metadata": {},
     "output_type": "execute_result"
    }
   ],
   "source": [
    "newImg2 = newImg.copy();\n",
    "for i in range(len(newImg2)):\n",
    "    for j in range(len(newImg2[i])):\n",
    "        if np.sum(newImg2[i][j]) != 0:\n",
    "            newImg2[i][j] = img[i][j]\n",
    "cv2.imwrite(\"Res.png\", newImg2)"
   ]
  },
  {
   "cell_type": "code",
   "execution_count": 16,
   "metadata": {},
   "outputs": [
    {
     "data": {
      "image/png": "[encoded data removed]",
      "text/plain": [
       "<Figure size 432x288 with 1 Axes>"
      ]
     },
     "metadata": {
      "needs_background": "light"
     },
     "output_type": "display_data"
    }
   ],
   "source": [
    "from mpl_toolkits.mplot3d import Axes3D\n",
    "\n",
    "fig = plt.figure()\n",
    "ax = plt.axes(projection='3d')\n",
    "for i in range(len(img)):\n",
    "    for j in range(len(img[i])):\n",
    "        color = (img[i][j][2]/255,img[i][j][1]/255,img[i][j][0]/255)\n",
    "        ax.plot([img[i][j][0]], [img[i][j][1]], [img[i][j][2]], markerfacecolor=color, markeredgecolor=color, marker='o', markersize=3, alpha=0.6)\n",
    "ax.set_xlabel('R')\n",
    "ax.set_ylabel('G')\n",
    "ax.set_zlabel('B')\n",
    "plt.savefig('Dots.png')\n",
    "plt.show()"
   ]
  },
  {
   "cell_type": "code",
   "execution_count": null,
   "metadata": {},
   "outputs": [],
   "source": []
  }
 ],
 "metadata": {
  "kernelspec": {
   "display_name": "Python 3",
   "language": "python",
   "name": "python3"
  },
  "language_info": {
   "codemirror_mode": {
    "name": "ipython",
    "version": 3
   },
   "file_extension": ".py",
   "mimetype": "text/x-python",
   "name": "python",
   "nbconvert_exporter": "python",
   "pygments_lexer": "ipython3",
   "version": "3.7.3"
  }
 },
 "nbformat": 4,
 "nbformat_minor": 2
}
